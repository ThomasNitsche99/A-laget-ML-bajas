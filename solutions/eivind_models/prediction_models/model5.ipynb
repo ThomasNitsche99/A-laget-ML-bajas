{
 "cells": [
  {
   "cell_type": "markdown",
   "metadata": {},
   "source": [
    "# Preprocessing the training dataset"
   ]
  },
  {
   "cell_type": "code",
   "execution_count": 1,
   "metadata": {},
   "outputs": [],
   "source": [
    "import pandas as pd\n",
    "import numpy as np\n",
    "import matplotlib.pyplot as plt\n",
    "from tqdm import tqdm"
   ]
  },
  {
   "cell_type": "code",
   "execution_count": 6,
   "metadata": {},
   "outputs": [
    {
     "data": {
      "text/html": [
       "<div>\n",
       "<style scoped>\n",
       "    .dataframe tbody tr th:only-of-type {\n",
       "        vertical-align: middle;\n",
       "    }\n",
       "\n",
       "    .dataframe tbody tr th {\n",
       "        vertical-align: top;\n",
       "    }\n",
       "\n",
       "    .dataframe thead th {\n",
       "        text-align: right;\n",
       "    }\n",
       "</style>\n",
       "<table border=\"1\" class=\"dataframe\">\n",
       "  <thead>\n",
       "    <tr style=\"text-align: right;\">\n",
       "      <th></th>\n",
       "      <th>time</th>\n",
       "      <th>cog</th>\n",
       "      <th>sog</th>\n",
       "      <th>rot</th>\n",
       "      <th>heading</th>\n",
       "      <th>navstat</th>\n",
       "      <th>latitude</th>\n",
       "      <th>longitude</th>\n",
       "      <th>vesselId</th>\n",
       "    </tr>\n",
       "  </thead>\n",
       "  <tbody>\n",
       "    <tr>\n",
       "      <th>131115</th>\n",
       "      <td>2024-01-12 14:07:47</td>\n",
       "      <td>308.1</td>\n",
       "      <td>17.1</td>\n",
       "      <td>-6</td>\n",
       "      <td>316</td>\n",
       "      <td>0</td>\n",
       "      <td>7.50361</td>\n",
       "      <td>77.58340</td>\n",
       "      <td>61e9f38eb937134a3c4bfd8b</td>\n",
       "    </tr>\n",
       "    <tr>\n",
       "      <th>131279</th>\n",
       "      <td>2024-01-12 14:31:00</td>\n",
       "      <td>307.6</td>\n",
       "      <td>17.3</td>\n",
       "      <td>5</td>\n",
       "      <td>313</td>\n",
       "      <td>0</td>\n",
       "      <td>7.57302</td>\n",
       "      <td>77.49505</td>\n",
       "      <td>61e9f38eb937134a3c4bfd8b</td>\n",
       "    </tr>\n",
       "    <tr>\n",
       "      <th>131514</th>\n",
       "      <td>2024-01-12 14:57:23</td>\n",
       "      <td>306.8</td>\n",
       "      <td>16.9</td>\n",
       "      <td>5</td>\n",
       "      <td>312</td>\n",
       "      <td>0</td>\n",
       "      <td>7.65043</td>\n",
       "      <td>77.39404</td>\n",
       "      <td>61e9f38eb937134a3c4bfd8b</td>\n",
       "    </tr>\n",
       "    <tr>\n",
       "      <th>131696</th>\n",
       "      <td>2024-01-12 15:18:48</td>\n",
       "      <td>307.9</td>\n",
       "      <td>16.9</td>\n",
       "      <td>6</td>\n",
       "      <td>313</td>\n",
       "      <td>0</td>\n",
       "      <td>7.71275</td>\n",
       "      <td>77.31394</td>\n",
       "      <td>61e9f38eb937134a3c4bfd8b</td>\n",
       "    </tr>\n",
       "    <tr>\n",
       "      <th>131885</th>\n",
       "      <td>2024-01-12 15:39:47</td>\n",
       "      <td>307.0</td>\n",
       "      <td>16.3</td>\n",
       "      <td>7</td>\n",
       "      <td>313</td>\n",
       "      <td>0</td>\n",
       "      <td>7.77191</td>\n",
       "      <td>77.23585</td>\n",
       "      <td>61e9f38eb937134a3c4bfd8b</td>\n",
       "    </tr>\n",
       "  </tbody>\n",
       "</table>\n",
       "</div>"
      ],
      "text/plain": [
       "                      time    cog   sog  rot  heading  navstat  latitude  \\\n",
       "131115 2024-01-12 14:07:47  308.1  17.1   -6      316        0   7.50361   \n",
       "131279 2024-01-12 14:31:00  307.6  17.3    5      313        0   7.57302   \n",
       "131514 2024-01-12 14:57:23  306.8  16.9    5      312        0   7.65043   \n",
       "131696 2024-01-12 15:18:48  307.9  16.9    6      313        0   7.71275   \n",
       "131885 2024-01-12 15:39:47  307.0  16.3    7      313        0   7.77191   \n",
       "\n",
       "        longitude                  vesselId  \n",
       "131115   77.58340  61e9f38eb937134a3c4bfd8b  \n",
       "131279   77.49505  61e9f38eb937134a3c4bfd8b  \n",
       "131514   77.39404  61e9f38eb937134a3c4bfd8b  \n",
       "131696   77.31394  61e9f38eb937134a3c4bfd8b  \n",
       "131885   77.23585  61e9f38eb937134a3c4bfd8b  "
      ]
     },
     "execution_count": 6,
     "metadata": {},
     "output_type": "execute_result"
    }
   ],
   "source": [
    "train_dataset = pd.read_csv('/Users/eivindmidtbo/Desktop/dev/Maskinlaering_i_praksis/A-laget-ML-bajas/data/ais_train.csv', sep='|')\n",
    "\n",
    "#Drop columns we don't want to use\n",
    "train_dataset = train_dataset.drop(['etaRaw','portId'], axis=1)\n",
    "\n",
    "#Transform time to datetime\n",
    "train_dataset['time'] = pd.to_datetime(train_dataset['time'])\n",
    "\n",
    "#Sort training data by vesselId and time\n",
    "train_dataset = train_dataset.sort_values(by=['vesselId','time'])\n",
    "\n",
    "#Print \n",
    "train_dataset.head()"
   ]
  },
  {
   "cell_type": "markdown",
   "metadata": {},
   "source": [
    "# Preprocessing the test dataset"
   ]
  },
  {
   "cell_type": "code",
   "execution_count": null,
   "metadata": {},
   "outputs": [],
   "source": []
  }
 ],
 "metadata": {
  "kernelspec": {
   "display_name": "maskinlaering",
   "language": "python",
   "name": "python3"
  },
  "language_info": {
   "codemirror_mode": {
    "name": "ipython",
    "version": 3
   },
   "file_extension": ".py",
   "mimetype": "text/x-python",
   "name": "python",
   "nbconvert_exporter": "python",
   "pygments_lexer": "ipython3",
   "version": "3.12.7"
  }
 },
 "nbformat": 4,
 "nbformat_minor": 2
}
