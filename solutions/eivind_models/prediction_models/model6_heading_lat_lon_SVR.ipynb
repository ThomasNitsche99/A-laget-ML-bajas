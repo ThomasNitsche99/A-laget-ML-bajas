{
 "cells": [
  {
   "cell_type": "markdown",
   "metadata": {},
   "source": [
    "# Preprocessing the training dataset"
   ]
  },
  {
   "cell_type": "code",
   "execution_count": 1,
   "metadata": {},
   "outputs": [],
   "source": [
    "import pandas as pd\n",
    "import numpy as np\n",
    "import matplotlib.pyplot as plt\n",
    "from tqdm import tqdm"
   ]
  },
  {
   "cell_type": "code",
   "execution_count": 2,
   "metadata": {},
   "outputs": [
    {
     "data": {
      "text/html": [
       "<div>\n",
       "<style scoped>\n",
       "    .dataframe tbody tr th:only-of-type {\n",
       "        vertical-align: middle;\n",
       "    }\n",
       "\n",
       "    .dataframe tbody tr th {\n",
       "        vertical-align: top;\n",
       "    }\n",
       "\n",
       "    .dataframe thead th {\n",
       "        text-align: right;\n",
       "    }\n",
       "</style>\n",
       "<table border=\"1\" class=\"dataframe\">\n",
       "  <thead>\n",
       "    <tr style=\"text-align: right;\">\n",
       "      <th></th>\n",
       "      <th>time</th>\n",
       "      <th>heading</th>\n",
       "      <th>latitude</th>\n",
       "      <th>longitude</th>\n",
       "      <th>vesselId</th>\n",
       "    </tr>\n",
       "  </thead>\n",
       "  <tbody>\n",
       "    <tr>\n",
       "      <th>131115</th>\n",
       "      <td>2024-01-12 14:07:47</td>\n",
       "      <td>316</td>\n",
       "      <td>7.50361</td>\n",
       "      <td>77.58340</td>\n",
       "      <td>61e9f38eb937134a3c4bfd8b</td>\n",
       "    </tr>\n",
       "    <tr>\n",
       "      <th>131279</th>\n",
       "      <td>2024-01-12 14:31:00</td>\n",
       "      <td>313</td>\n",
       "      <td>7.57302</td>\n",
       "      <td>77.49505</td>\n",
       "      <td>61e9f38eb937134a3c4bfd8b</td>\n",
       "    </tr>\n",
       "    <tr>\n",
       "      <th>131514</th>\n",
       "      <td>2024-01-12 14:57:23</td>\n",
       "      <td>312</td>\n",
       "      <td>7.65043</td>\n",
       "      <td>77.39404</td>\n",
       "      <td>61e9f38eb937134a3c4bfd8b</td>\n",
       "    </tr>\n",
       "    <tr>\n",
       "      <th>131696</th>\n",
       "      <td>2024-01-12 15:18:48</td>\n",
       "      <td>313</td>\n",
       "      <td>7.71275</td>\n",
       "      <td>77.31394</td>\n",
       "      <td>61e9f38eb937134a3c4bfd8b</td>\n",
       "    </tr>\n",
       "    <tr>\n",
       "      <th>131885</th>\n",
       "      <td>2024-01-12 15:39:47</td>\n",
       "      <td>313</td>\n",
       "      <td>7.77191</td>\n",
       "      <td>77.23585</td>\n",
       "      <td>61e9f38eb937134a3c4bfd8b</td>\n",
       "    </tr>\n",
       "  </tbody>\n",
       "</table>\n",
       "</div>"
      ],
      "text/plain": [
       "                      time  heading  latitude  longitude  \\\n",
       "131115 2024-01-12 14:07:47      316   7.50361   77.58340   \n",
       "131279 2024-01-12 14:31:00      313   7.57302   77.49505   \n",
       "131514 2024-01-12 14:57:23      312   7.65043   77.39404   \n",
       "131696 2024-01-12 15:18:48      313   7.71275   77.31394   \n",
       "131885 2024-01-12 15:39:47      313   7.77191   77.23585   \n",
       "\n",
       "                        vesselId  \n",
       "131115  61e9f38eb937134a3c4bfd8b  \n",
       "131279  61e9f38eb937134a3c4bfd8b  \n",
       "131514  61e9f38eb937134a3c4bfd8b  \n",
       "131696  61e9f38eb937134a3c4bfd8b  \n",
       "131885  61e9f38eb937134a3c4bfd8b  "
      ]
     },
     "execution_count": 2,
     "metadata": {},
     "output_type": "execute_result"
    }
   ],
   "source": [
    "train_dataset = pd.read_csv('/Users/eivindmidtbo/Desktop/dev/Maskinlaering_i_praksis/A-laget-ML-bajas/data/ais_train.csv', sep='|')\n",
    "\n",
    "#Drop columns we don't want to use\n",
    "train_dataset = train_dataset.drop(['etaRaw','portId', 'cog', 'sog','rot','navstat'], axis=1)\n",
    "\n",
    "#Transform time to datetime\n",
    "train_dataset['time'] = pd.to_datetime(train_dataset['time'])\n",
    "\n",
    "#Sort training data by vesselId and time\n",
    "train_dataset = train_dataset.sort_values(by=['vesselId','time'])\n",
    "\n",
    "#Print \n",
    "train_dataset.head()"
   ]
  },
  {
   "cell_type": "code",
   "execution_count": 3,
   "metadata": {},
   "outputs": [],
   "source": [
    "def create_training_data(df: pd.DataFrame, N_KEEP_PAST: int) -> pd.DataFrame:\n",
    "    data_rows = []  # List to store data rows\n",
    "    # Get unique vessel IDs from the DataFrame\n",
    "    unique_vessels = df['vesselId'].unique()\n",
    "\n",
    "    # Iterate over each unique vessel\n",
    "    for vessel in tqdm(unique_vessels):\n",
    "        # Filter data for the current vessel and sort by time\n",
    "        vessel_data = df[df['vesselId'] == vessel].sort_values(by='time').reset_index(drop=True)\n",
    "        total_rows = len(vessel_data)\n",
    "        \n",
    "        # Skip vessels with insufficient data\n",
    "        if total_rows <= N_KEEP_PAST:\n",
    "            continue\n",
    "\n",
    "        # Process each record starting from N_KEEP_PAST\n",
    "        for index in range(N_KEEP_PAST, total_rows):\n",
    "            current_record = vessel_data.iloc[index]\n",
    "            previous_records = vessel_data.iloc[index - N_KEEP_PAST:index]\n",
    "\n",
    "            # Initialize a dictionary to hold the feature values and target\n",
    "            feature_row = {\n",
    "                'vesselId': vessel,\n",
    "                'target_lat': current_record['latitude'],\n",
    "                'target_lon': current_record['longitude'],\n",
    "                'target_time': current_record['time']\n",
    "            }\n",
    "\n",
    "            # Loop through past records to collect features\n",
    "            for j, past_record in previous_records.iterrows():\n",
    "                time_difference = (current_record['time'] - past_record['time']).total_seconds() / 60.0\n",
    "                feature_row[f'minutes_from_target_{j - (index - N_KEEP_PAST)}'] = time_difference\n",
    "                feature_row[f'heading_{j - (index - N_KEEP_PAST)}'] = past_record['heading']\n",
    "                feature_row[f'lat_{j - (index - N_KEEP_PAST)}'] = past_record['latitude']\n",
    "                feature_row[f'lon_{j - (index - N_KEEP_PAST)}'] = past_record['longitude']\n",
    "\n",
    "\n",
    "            # Append the feature row to the data list\n",
    "            data_rows.append(feature_row)\n",
    "\n",
    "    # Convert the list of feature rows to a DataFrame\n",
    "    return pd.DataFrame(data_rows)\n"
   ]
  },
  {
   "cell_type": "code",
   "execution_count": 4,
   "metadata": {},
   "outputs": [
    {
     "name": "stderr",
     "output_type": "stream",
     "text": [
      "100%|██████████| 688/688 [23:18<00:00,  2.03s/it]\n"
     ]
    }
   ],
   "source": [
    "processed_train = create_training_data(train_dataset, 5)"
   ]
  },
  {
   "cell_type": "code",
   "execution_count": 5,
   "metadata": {},
   "outputs": [],
   "source": [
    "processed_train.to_csv('/Users/eivindmidtbo/Desktop/dev/Maskinlaering_i_praksis/A-laget-ML-bajas/solutions/eivind_models/data/processed_train.csv', index=False)"
   ]
  },
  {
   "cell_type": "code",
   "execution_count": 6,
   "metadata": {},
   "outputs": [],
   "source": [
    "def sort_training_data(train_df: pd.DataFrame) -> pd.DataFrame:\n",
    "    # Ensure that the 'time' column is of datetime type for correct sorting\n",
    "    if not pd.api.types.is_datetime64_any_dtype(train_df['time']):\n",
    "        train_df['time'] = pd.to_datetime(train_df['time'])\n",
    "    \n",
    "    # Sort the DataFrame by 'vesselId' and 'time' in ascending order\n",
    "    sorted_df = train_df.sort_values(by=['vesselId', 'time'], ascending=True).reset_index(drop=True)\n",
    "    \n",
    "    return sorted_df"
   ]
  },
  {
   "cell_type": "code",
   "execution_count": 7,
   "metadata": {},
   "outputs": [],
   "source": [
    "sorted_train = sort_training_data(train_dataset)"
   ]
  },
  {
   "cell_type": "markdown",
   "metadata": {},
   "source": [
    "# Preprocessing the test dataset"
   ]
  },
  {
   "cell_type": "code",
   "execution_count": 8,
   "metadata": {},
   "outputs": [
    {
     "data": {
      "text/html": [
       "<div>\n",
       "<style scoped>\n",
       "    .dataframe tbody tr th:only-of-type {\n",
       "        vertical-align: middle;\n",
       "    }\n",
       "\n",
       "    .dataframe tbody tr th {\n",
       "        vertical-align: top;\n",
       "    }\n",
       "\n",
       "    .dataframe thead th {\n",
       "        text-align: right;\n",
       "    }\n",
       "</style>\n",
       "<table border=\"1\" class=\"dataframe\">\n",
       "  <thead>\n",
       "    <tr style=\"text-align: right;\">\n",
       "      <th></th>\n",
       "      <th>ID</th>\n",
       "      <th>vesselId</th>\n",
       "      <th>time</th>\n",
       "      <th>scaling_factor</th>\n",
       "    </tr>\n",
       "  </thead>\n",
       "  <tbody>\n",
       "    <tr>\n",
       "      <th>0</th>\n",
       "      <td>0</td>\n",
       "      <td>61e9f3aeb937134a3c4bfe3d</td>\n",
       "      <td>2024-05-08 00:03:16</td>\n",
       "      <td>0.3</td>\n",
       "    </tr>\n",
       "    <tr>\n",
       "      <th>1</th>\n",
       "      <td>1</td>\n",
       "      <td>61e9f473b937134a3c4c02df</td>\n",
       "      <td>2024-05-08 00:06:17</td>\n",
       "      <td>0.3</td>\n",
       "    </tr>\n",
       "    <tr>\n",
       "      <th>2</th>\n",
       "      <td>2</td>\n",
       "      <td>61e9f469b937134a3c4c029b</td>\n",
       "      <td>2024-05-08 00:10:02</td>\n",
       "      <td>0.3</td>\n",
       "    </tr>\n",
       "    <tr>\n",
       "      <th>3</th>\n",
       "      <td>3</td>\n",
       "      <td>61e9f45bb937134a3c4c0221</td>\n",
       "      <td>2024-05-08 00:10:34</td>\n",
       "      <td>0.3</td>\n",
       "    </tr>\n",
       "    <tr>\n",
       "      <th>4</th>\n",
       "      <td>4</td>\n",
       "      <td>61e9f38eb937134a3c4bfd8d</td>\n",
       "      <td>2024-05-08 00:12:27</td>\n",
       "      <td>0.3</td>\n",
       "    </tr>\n",
       "  </tbody>\n",
       "</table>\n",
       "</div>"
      ],
      "text/plain": [
       "   ID                  vesselId                time  scaling_factor\n",
       "0   0  61e9f3aeb937134a3c4bfe3d 2024-05-08 00:03:16             0.3\n",
       "1   1  61e9f473b937134a3c4c02df 2024-05-08 00:06:17             0.3\n",
       "2   2  61e9f469b937134a3c4c029b 2024-05-08 00:10:02             0.3\n",
       "3   3  61e9f45bb937134a3c4c0221 2024-05-08 00:10:34             0.3\n",
       "4   4  61e9f38eb937134a3c4bfd8d 2024-05-08 00:12:27             0.3"
      ]
     },
     "execution_count": 8,
     "metadata": {},
     "output_type": "execute_result"
    }
   ],
   "source": [
    "test_dataset = pd.read_csv('/Users/eivindmidtbo/Desktop/dev/Maskinlaering_i_praksis/A-laget-ML-bajas/data/ais_test.csv')\n",
    "\n",
    "test_dataset['time'] = pd.to_datetime(test_dataset['time'])\n",
    "\n",
    "test_dataset.head()"
   ]
  },
  {
   "cell_type": "code",
   "execution_count": 9,
   "metadata": {},
   "outputs": [],
   "source": [
    "import pandas as pd\n",
    "from tqdm import tqdm\n",
    "\n",
    "def create_test_data(train_df: pd.DataFrame, test_df: pd.DataFrame, N_KEEP_PAST: int) -> pd.DataFrame:\n",
    "    data_rows = []  # List to collect all the data rows\n",
    "    unique_vessels = test_df['vesselId'].unique()  # Get unique vessel IDs\n",
    "\n",
    "    # Iterate over each unique vessel\n",
    "    for vessel in tqdm(unique_vessels):\n",
    "        # Filter out the train data for this vessel that is less than the max time in test data\n",
    "        vessel_train_data = train_df[train_df['vesselId'] == vessel]\n",
    "        # Sort the train data by time, if not already sorted\n",
    "        vessel_train_data = vessel_train_data.sort_values(by='time').reset_index(drop=True)\n",
    "\n",
    "        # Get test data for the current vessel\n",
    "        test_vessel_data = test_df[test_df['vesselId'] == vessel]\n",
    "\n",
    "        for _, test_row in test_vessel_data.iterrows():\n",
    "            target_time = test_row['time']\n",
    "            ID = test_row['ID']\n",
    "            # Get the last N_KEEP_PAST records from the train data before the target time\n",
    "            past_data = vessel_train_data[vessel_train_data['time'] < target_time].tail(N_KEEP_PAST)\n",
    "\n",
    "            # Check if we have enough past data\n",
    "            if len(past_data) < N_KEEP_PAST:\n",
    "                continue  # Not enough past data; skip this test row\n",
    "\n",
    "            # Prepare a dictionary to hold the features\n",
    "            feature_row = {\n",
    "                'vesselId': vessel,\n",
    "                'target_time': target_time  # Only include target time\n",
    "            }\n",
    "\n",
    "            # Loop through past records to collect features\n",
    "            for j in range(N_KEEP_PAST):\n",
    "                past_record = past_data.iloc[j]\n",
    "                time_diff = (target_time - past_record['time']).total_seconds() / 60.0  # Difference in minutes\n",
    "\n",
    "                # Add features for minutes from target and heading\n",
    "                feature_row[f'minutes_from_target_{j}'] = time_diff\n",
    "                feature_row[f'heading_{j}'] = past_record['heading']\n",
    "                feature_row[f'lat_{j}'] = past_record['latitude']\n",
    "                feature_row[f'lon_{j}'] = past_record['longitude']\n",
    "                \n",
    "\n",
    "            feature_row['vesselId'] = vessel\n",
    "            feature_row['ID'] = ID\n",
    "            # Append the row to the list\n",
    "            data_rows.append(feature_row)\n",
    "\n",
    "    # Convert the list of feature rows to a DataFrame\n",
    "    return pd.DataFrame(data_rows)\n",
    "\n"
   ]
  },
  {
   "cell_type": "code",
   "execution_count": 10,
   "metadata": {},
   "outputs": [
    {
     "name": "stderr",
     "output_type": "stream",
     "text": [
      "100%|██████████| 215/215 [01:20<00:00,  2.68it/s]\n"
     ]
    }
   ],
   "source": [
    "processed_test = create_test_data(sorted_train, test_dataset, 5)"
   ]
  },
  {
   "cell_type": "code",
   "execution_count": 11,
   "metadata": {},
   "outputs": [],
   "source": [
    "processed_test.to_csv('/Users/eivindmidtbo/Desktop/dev/Maskinlaering_i_praksis/A-laget-ML-bajas/solutions/eivind_models/data/processed_test.csv', index=False)"
   ]
  },
  {
   "cell_type": "markdown",
   "metadata": {},
   "source": [
    "# Code for making predictions"
   ]
  },
  {
   "cell_type": "code",
   "execution_count": 2,
   "metadata": {},
   "outputs": [
    {
     "name": "stdout",
     "output_type": "stream",
     "text": [
      "Training fold 1/3 using LinearSVR...\n",
      "Training fold 2/3 using LinearSVR...\n",
      "Training fold 3/3 using LinearSVR...\n"
     ]
    },
    {
     "name": "stderr",
     "output_type": "stream",
     "text": [
      "/opt/miniconda3/envs/maskinlaering/lib/python3.12/site-packages/sklearn/svm/_base.py:1235: ConvergenceWarning: Liblinear failed to converge, increase the number of iterations.\n",
      "  warnings.warn(\n"
     ]
    },
    {
     "name": "stdout",
     "output_type": "stream",
     "text": [
      "Starting weight optimization...\n",
      "Optimized Mean Squared Error: 15.554004819559704\n",
      "Final Prediction Weight: 1.0000\n"
     ]
    }
   ],
   "source": [
    "import pandas as pd\n",
    "import numpy as np\n",
    "from sklearn.model_selection import KFold\n",
    "from sklearn.metrics import mean_squared_error\n",
    "from sklearn.multioutput import MultiOutputRegressor\n",
    "from sklearn.svm import LinearSVR\n",
    "from sklearn.preprocessing import StandardScaler\n",
    "from scipy.optimize import minimize  \n",
    "\n",
    "# Load datasets into pandas DataFrames\n",
    "test_df = pd.read_csv('/Users/eivindmidtbo/Desktop/dev/Maskinlaering_i_praksis/A-laget-ML-bajas/solutions/eivind_models/data/processed_test.csv')\n",
    "train_df = pd.read_csv('/Users/eivindmidtbo/Desktop/dev/Maskinlaering_i_praksis/A-laget-ML-bajas/solutions/eivind_models/data/processed_train.csv')\n",
    "\n",
    "# Randomly sample 10% of the training data for quick testing\n",
    "train_df_sample = train_df.sample(frac=0.1, random_state=42)\n",
    "\n",
    "# Separate features and targets from training data\n",
    "X = train_df_sample.drop(columns=['target_lat', 'target_lon', 'vesselId', 'target_time'])\n",
    "y = train_df_sample[['target_lat', 'target_lon']]\n",
    "X_test = test_df[X.columns]\n",
    "\n",
    "# Scale features\n",
    "scaler = StandardScaler()\n",
    "X = scaler.fit_transform(X)\n",
    "X_test = scaler.transform(X_test)\n",
    "\n",
    "# Initialize LinearSVR model wrapped in MultiOutputRegressor\n",
    "linear_svr = LinearSVR(C=1.0, epsilon=0.1, max_iter=10000, random_state=42)  # Increase max_iter\n",
    "multi_output_model = MultiOutputRegressor(linear_svr, n_jobs=-1)  # Use all cores for fitting\n",
    "\n",
    "# Set up K-Fold cross-validation\n",
    "n_folds = 3  # Reduce folds for quicker validation\n",
    "kf = KFold(n_splits=n_folds, shuffle=True, random_state=42)\n",
    "\n",
    "# Initialize arrays for predictions\n",
    "oof_preds = np.zeros((X.shape[0], y.shape[1]))\n",
    "test_preds = np.zeros((X_test.shape[0], y.shape[1], n_folds))\n",
    "\n",
    "# Perform training and predictions using K-Fold\n",
    "for fold_index, (train_indices, valid_indices) in enumerate(kf.split(X, y)):\n",
    "    X_train, y_train = X[train_indices], y.iloc[train_indices]\n",
    "    X_val, y_val = X[valid_indices], y.iloc[valid_indices]\n",
    "\n",
    "    print(f\"Training fold {fold_index + 1}/{n_folds} using LinearSVR...\")\n",
    "    multi_output_model.fit(X_train, y_train)\n",
    "\n",
    "    # Make predictions\n",
    "    val_preds = multi_output_model.predict(X_val)\n",
    "    test_fold_preds = multi_output_model.predict(X_test)\n",
    "\n",
    "    # Save the predictions\n",
    "    oof_preds[valid_indices] = val_preds\n",
    "    test_preds[:, :, fold_index] = test_fold_preds\n",
    "\n",
    "# Define the function to compute mean squared error for weight optimization\n",
    "def compute_mse(weights):\n",
    "    normalized_weights = np.array(weights) / np.sum(weights)  # Normalize weights\n",
    "    combined_preds = normalized_weights[0] * oof_preds  # Since there's only one model\n",
    "    mse = mean_squared_error(y, combined_preds)\n",
    "    return mse\n",
    "\n",
    "# Initial weight for optimization\n",
    "initial_weight = [1.0]  # Single model\n",
    "bounds = [(0, 1)]  # Weights should be between 0 and 1\n",
    "\n",
    "# Optimize the weights to minimize the MSE\n",
    "optimal_mse = float('inf')\n",
    "optimal_weights = None\n",
    "\n",
    "print(\"Starting weight optimization...\")\n",
    "try:\n",
    "    optimization_result = minimize(compute_mse, initial_weight, method='Nelder-Mead', bounds=bounds)\n",
    "    optimal_mse = optimization_result.fun\n",
    "    optimal_weights = optimization_result.x / np.sum(optimization_result.x)  # Normalize weights\n",
    "except Exception as e:\n",
    "    print(f\"Error during optimization: {e}\")\n",
    "\n",
    "# Average the test predictions across folds\n",
    "mean_test_predictions = np.mean(test_preds, axis=2)\n",
    "\n",
    "# Finalize predictions using optimized weights\n",
    "final_predictions = optimal_weights[0] * mean_test_predictions  # Since there's only one model\n",
    "\n",
    "# Create a DataFrame for output\n",
    "results_df = pd.DataFrame({\n",
    "    'ID': test_df['ID'],\n",
    "    'longitude_predicted': final_predictions[:, 1],\n",
    "    'latitude_predicted': final_predictions[:, 0]\n",
    "})\n",
    "\n",
    "# Save the predictions to a CSV file\n",
    "results_df.to_csv('/Users/eivindmidtbo/Desktop/dev/Maskinlaering_i_praksis/A-laget-ML-bajas/solutions/eivind_models/data/predictions_model6_linear_svr.csv', index=False)\n",
    "\n",
    "# Print optimized results\n",
    "print(f\"Optimized Mean Squared Error: {optimal_mse}\")\n",
    "print(f\"Final Prediction Weight: {optimal_weights[0]:.4f}\")\n"
   ]
  },
  {
   "cell_type": "code",
   "execution_count": null,
   "metadata": {},
   "outputs": [],
   "source": []
  }
 ],
 "metadata": {
  "kernelspec": {
   "display_name": "maskinlaering",
   "language": "python",
   "name": "python3"
  },
  "language_info": {
   "codemirror_mode": {
    "name": "ipython",
    "version": 3
   },
   "file_extension": ".py",
   "mimetype": "text/x-python",
   "name": "python",
   "nbconvert_exporter": "python",
   "pygments_lexer": "ipython3",
   "version": "3.12.7"
  }
 },
 "nbformat": 4,
 "nbformat_minor": 2
}
