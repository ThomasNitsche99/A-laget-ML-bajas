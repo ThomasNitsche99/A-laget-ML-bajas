{
 "cells": [
  {
   "cell_type": "markdown",
   "metadata": {},
   "source": [
    "### Essential installments"
   ]
  },
  {
   "cell_type": "code",
   "execution_count": 4,
   "metadata": {},
   "outputs": [
    {
     "name": "stdout",
     "output_type": "stream",
     "text": [
      "Requirement already satisfied: numpy in /Users/minasjovik/opt/anaconda3/lib/python3.9/site-packages (1.22.4)\n",
      "Note: you may need to restart the kernel to use updated packages.\n",
      "Requirement already satisfied: pandas in /Users/minasjovik/opt/anaconda3/lib/python3.9/site-packages (1.3.4)\n",
      "Requirement already satisfied: python-dateutil>=2.7.3 in /Users/minasjovik/opt/anaconda3/lib/python3.9/site-packages (from pandas) (2.8.2)\n",
      "Requirement already satisfied: pytz>=2017.3 in /Users/minasjovik/opt/anaconda3/lib/python3.9/site-packages (from pandas) (2022.1)\n",
      "Requirement already satisfied: numpy>=1.17.3 in /Users/minasjovik/opt/anaconda3/lib/python3.9/site-packages (from pandas) (1.22.4)\n",
      "Requirement already satisfied: six>=1.5 in /Users/minasjovik/opt/anaconda3/lib/python3.9/site-packages (from python-dateutil>=2.7.3->pandas) (1.16.0)\n",
      "Note: you may need to restart the kernel to use updated packages.\n"
     ]
    }
   ],
   "source": [
    "%pip install numpy\n",
    "%pip install pandas"
   ]
  },
  {
   "cell_type": "markdown",
   "metadata": {},
   "source": [
    "### Import relevant modules"
   ]
  },
  {
   "cell_type": "code",
   "execution_count": 5,
   "metadata": {},
   "outputs": [],
   "source": [
    "import pandas as pd\n",
    "import numpy as np\n",
    "import matplotlib.pyplot as plt\n",
    "from tqdm import tqdm\n",
    "from sklearn.preprocessing import LabelEncoder\n",
    "from scipy.optimize import minimize"
   ]
  },
  {
   "cell_type": "markdown",
   "metadata": {},
   "source": [
    "### Import data"
   ]
  },
  {
   "cell_type": "code",
   "execution_count": 7,
   "metadata": {},
   "outputs": [
    {
     "name": "stdout",
     "output_type": "stream",
     "text": [
      "Index(['time', 'cog', 'sog', 'rot', 'heading', 'navstat', 'latitude',\n",
      "       'longitude', 'vesselId'],\n",
      "      dtype='object')\n",
      "Index(['shippingLineId', 'vesselId', 'CEU', 'DWT', 'GT', 'NT', 'vesselType',\n",
      "       'breadth', 'depth', 'draft', 'enginePower', 'freshWater', 'fuel',\n",
      "       'homePort', 'length', 'maxHeight', 'maxSpeed', 'maxWidth',\n",
      "       'rampCapacity', 'yearBuilt'],\n",
      "      dtype='object')\n",
      "Index(['time', 'cog', 'sog', 'rot', 'heading', 'navstat', 'latitude',\n",
      "       'longitude', 'vesselId', 'shippingLineId', 'CEU', 'DWT', 'GT', 'NT',\n",
      "       'vesselType', 'breadth', 'depth', 'draft', 'enginePower', 'freshWater',\n",
      "       'fuel', 'homePort', 'length', 'maxHeight', 'maxSpeed', 'maxWidth',\n",
      "       'rampCapacity', 'yearBuilt'],\n",
      "      dtype='object')\n"
     ]
    }
   ],
   "source": [
    "# Loading in ais training data\n",
    "train = pd.read_csv('../data/cleaned/cleaned_ais_train_dataset.csv', sep=',')\n",
    "train = train.drop(['portId','etaRaw'], axis=1)\n",
    "train['time'] = pd.to_datetime(train['time'])\n",
    "train = train.sort_values(by=['vesselId','time'])\n",
    "print(train.columns)\n",
    "\n",
    "# Load vessels data\n",
    "vessels = pd.read_csv('../data/cleaned/cleaned_vessels.csv', sep=',')\n",
    "print(vessels.columns)\n",
    "\n",
    "# Merge with training data\n",
    "train = train.merge(vessels, on='vesselId', how='left')\n",
    "train.head()\n",
    "print(train.columns)"
   ]
  },
  {
   "cell_type": "markdown",
   "metadata": {},
   "source": []
  },
  {
   "cell_type": "code",
   "execution_count": null,
   "metadata": {},
   "outputs": [],
   "source": []
  }
 ],
 "metadata": {
  "kernelspec": {
   "display_name": "Python 3",
   "language": "python",
   "name": "python3"
  },
  "language_info": {
   "codemirror_mode": {
    "name": "ipython",
    "version": 3
   },
   "file_extension": ".py",
   "mimetype": "text/x-python",
   "name": "python",
   "nbconvert_exporter": "python",
   "pygments_lexer": "ipython3",
   "version": "3.9.7"
  }
 },
 "nbformat": 4,
 "nbformat_minor": 2
}
